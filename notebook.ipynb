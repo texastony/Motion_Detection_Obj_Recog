{
 "cells": [
  {
   "cell_type": "markdown",
   "metadata": {},
   "source": [
    "## Intro\n",
    "This is a quick and dirty notebook for showing how I would use OpenCV to detect and track motion in a room. I will load all the code from proper Python files and leave what I consider to be elucidating comments in the markup secetions of this notebook."
   ]
  },
  {
   "cell_type": "markdown",
   "metadata": {},
   "source": [
    "##### Imports and Constants\n",
    "For now, we are going to load cv2 and numpy. I will also define some constants here (it is proper to capitalize all letters in a constant, even though Python does not have constants). My constants are the window name (which I need to create handles to my GUI) and the Display Denominator. \n",
    "\n",
    "(Some cameras produce a resolution (or image size) that is very simlar to the display resolution (size). I scale my frames down so the window is smaller)"
   ]
  },
  {
   "cell_type": "code",
   "execution_count": 1,
   "metadata": {},
   "outputs": [],
   "source": [
    "# %load -r :6 src/main.py\n",
    "import cv2\n",
    "import numpy as np\n",
    "import time\n",
    "WINDOW_NAME = 'win'\n",
    "DISP_DENOM = 2"
   ]
  },
  {
   "cell_type": "markdown",
   "metadata": {},
   "source": [
    "##### Creating GUI and a Probablistic Background Subtractor\n",
    "\n",
    "The approach I propose for detecting motion in a frame is via probabalistic background subtraction. There are many background subtracting algorithms (OpenCV implements 4), but I think the K-Nearest Neighbor (KNN) implementation is the best.\n",
    "\n",
    "The `BackGroundSubtractorKNN`, when applied to a frame, produces a mask. I will apply this mask to the frame, and thus produce only the foreground that is interesting.\n",
    "\n",
    "Here, I setup the camera, background subtractor, and the trackbars. I am going to use the trackbars to play around with the attributes of the background subtractor. The background subtractors in OpenCV have many parameters, but I found these two to be the crux. Checkout the OpenCV reference to learn about the other parameters, or the papers on the background subtraction algorithms.\n",
    "\n",
    "**Important note**: Much of computer vision is tweaking parameters to different situations. I frequently use setups like the one we are creating here to tune parameters. Different cameras, room lighting, room coloring, and use cases need different parameters.\n",
    "\n",
    "**Important Note**: I initialize an empty matrix to store the product of the mask and the frame. Do stuff like this when you are consistently doing the same operation and you know what the output dimensions are going to be. "
   ]
  },
  {
   "cell_type": "code",
   "execution_count": 2,
   "metadata": {},
   "outputs": [],
   "source": [
    "# %load -r 7:22 src/main.py\n",
    "cap = cv2.VideoCapture(0)\n",
    "fgbg = cv2.createBackgroundSubtractorKNN(\n",
    "    history=50, dist2Threshold=100.0, detectShadows=False)\n",
    "\n",
    "cv2.namedWindow(WINDOW_NAME, cv2.WINDOW_NORMAL)\n",
    "# cv2.startWindowThread()\n",
    "width = int(cap.get(cv2.CAP_PROP_FRAME_WIDTH)//DISP_DENOM)\n",
    "height = int(cap.get(cv2.CAP_PROP_FRAME_HEIGHT)//DISP_DENOM)\n",
    "display_img = np.empty((height, width, 3), dtype=np.uint8)\n",
    "cv2.createTrackbar('History', WINDOW_NAME,\n",
    "                   fgbg.getHistory(), 500,\n",
    "                   fgbg.setHistory)\n",
    "cv2.createTrackbar('dist2Threshold', WINDOW_NAME,\n",
    "                   int(fgbg.getDist2Threshold()), 400,\n",
    "                   fgbg.setDist2Threshold)"
   ]
  },
  {
   "cell_type": "markdown",
   "metadata": {},
   "source": [
    "##### Applying mask, resizing the image using the trackbars\n",
    "I have to add a dimension to the mask so it can be broadcasted to the color channels (BGR) in the frame. Checkout `fgbg.shape` and `frame.shape` if that does not make sense. I also cast it as a boolean (it defaults to 0, 127, 255). I log the position of the sliders via over-writting print statment so I know what they are. \n",
    "\n",
    "**No Window Appears**: If no window appears a immediatly, try looking around. Sometimes the Python GUI appears behind this browser window or somewhere else.\n",
    "\n",
    "**Python hangs**: Makes sure the Python OpenCV process is the focused window for hitting the key stroke that breaks the while loop."
   ]
  },
  {
   "cell_type": "code",
   "execution_count": 3,
   "metadata": {},
   "outputs": [
    {
     "name": "stdout",
     "output_type": "stream",
     "text": [
      " History 50, dist2Threshold 100.0History 50, dist2Threshold 100.0"
     ]
    }
   ],
   "source": [
    "# %load -r 23:40 src/main.py\n",
    "frame_cnt = 0\n",
    "while(True):\n",
    "    ret, frame = cap.read()\n",
    "    fgmask = fgbg.apply(frame)\n",
    "    display_img = cv2.resize(\n",
    "        frame*np.atleast_3d(fgmask.astype(np.bool)),\n",
    "        (width, height), interpolation=cv2.INTER_AREA)\n",
    "    cv2.getTrackbarPos('History', WINDOW_NAME)\n",
    "    cv2.getTrackbarPos('dist2Threshold', WINDOW_NAME)\n",
    "    cv2.imshow(WINDOW_NAME, display_img)\n",
    "    k = cv2.waitKey(30) & 0xff\n",
    "    if k == 27:\n",
    "        break\n",
    "    frame_cnt += 1\n",
    "    msg = 'History {0}, dist2Threshold {1}'.format(\n",
    "              fgbg.getHistory(), fgbg.getDist2Threshold())\n",
    "    print(\"\\r\", msg, end=\"\")"
   ]
  },
  {
   "cell_type": "markdown",
   "metadata": {},
   "source": [
    "##### Close the windows and release the camera"
   ]
  },
  {
   "cell_type": "code",
   "execution_count": 4,
   "metadata": {},
   "outputs": [],
   "source": [
    "# %load -r 41: src/main.py\n",
    "cap.release()\n",
    "cv2.waitKey(1)\n",
    "cv2.destroyAllWindows()\n",
    "cv2.waitKey(1);"
   ]
  },
  {
   "cell_type": "markdown",
   "metadata": {},
   "source": [
    "##### Performance\n",
    "While figuring out what algorithms/operations I use, I consider the affect they have on the FPS (Frames Per Second). \n",
    "\n",
    "*Note*: I do not use `imshow` while I do this because showing images is an operation in itself. \n",
    "\n",
    "**Note**: Some operation parameters heavily infulence not only the accuracy of the system but the runtime/memory performance. For instance, `history` set to 32 & 400 gives me an average (out of 3 trials each) of 7.372 & 7.645. If your FPS is too slow to detect the motion you are looking for, you can reduce the resolution size of the original frame right after you capture it. Just modify the `resize` code I used above. "
   ]
  },
  {
   "cell_type": "code",
   "execution_count": null,
   "metadata": {},
   "outputs": [],
   "source": [
    "num_frames = 200\n",
    "# Start time\n",
    "start = time.time()\n",
    "\n",
    "cap = cv2.VideoCapture(0)\n",
    "fgbg = cv2.createBackgroundSubtractorKNN(\n",
    "    history=500, dist2Threshold=400.0, detectShadows=False)\n",
    "tmp =  np.empty((int(cap.get(cv2.CAP_PROP_FRAME_HEIGHT)), \n",
    "                 int(cap.get(cv2.CAP_PROP_FRAME_WIDTH)), 3), \n",
    "                dtype=np.uint8)\n",
    "\n",
    "# Grab a few frames\n",
    "for frame_cnt in range(0, num_frames) :\n",
    "    ret, frame = cap.read()\n",
    "    fgmask = fgbg.apply(frame)\n",
    "    tmp = frame*np.atleast_3d(fgmask.astype(np.bool))\n",
    "    print(\"\\r\", frame_cnt, end=\"\")\n",
    "# # End time\n",
    "end = time.time()\n",
    "\n",
    "# # Time elapsed\n",
    "seconds = end - start\n",
    "# print(\"Time taken : {0} seconds\".format(seconds))\n",
    "\n",
    "# # Calculate frames per second\n",
    "fps  = num_frames / seconds;\n",
    "print(\"\\r\", \"Estimated frames per second : {:3.4}\".format(fps));\n",
    "\n",
    "# # Release video\n",
    "cap.release()"
   ]
  },
  {
   "cell_type": "code",
   "execution_count": null,
   "metadata": {},
   "outputs": [],
   "source": []
  }
 ],
 "metadata": {
  "kernelspec": {
   "display_name": "Python 3",
   "language": "python",
   "name": "python3"
  },
  "language_info": {
   "codemirror_mode": {
    "name": "ipython",
    "version": 3
   },
   "file_extension": ".py",
   "mimetype": "text/x-python",
   "name": "python",
   "nbconvert_exporter": "python",
   "pygments_lexer": "ipython3",
   "version": "3.4.2"
  }
 },
 "nbformat": 4,
 "nbformat_minor": 2
}
